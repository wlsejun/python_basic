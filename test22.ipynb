{
 "cells": [
  {
   "cell_type": "code",
   "execution_count": 1,
   "metadata": {},
   "outputs": [
    {
     "ename": "ModuleNotFoundError",
     "evalue": "No module named 'numpy'",
     "output_type": "error",
     "traceback": [
      "\u001b[0;31m---------------------------------------------------------------------------\u001b[0m",
      "\u001b[0;31mModuleNotFoundError\u001b[0m                       Traceback (most recent call last)",
      "Cell \u001b[0;32mIn[1], line 1\u001b[0m\n\u001b[0;32m----> 1\u001b[0m \u001b[39mimport\u001b[39;00m \u001b[39mnumpy\u001b[39;00m \u001b[39mas\u001b[39;00m \u001b[39mnp\u001b[39;00m \u001b[39m# numpy inport\u001b[39;00m\n\u001b[1;32m      2\u001b[0m \u001b[39mimport\u001b[39;00m \u001b[39mmatplotlib\u001b[39;00m\u001b[39m.\u001b[39;00m\u001b[39mpyplot\u001b[39;00m \u001b[39mas\u001b[39;00m \u001b[39mplt\u001b[39;00m \u001b[39m# Visualize, Seaborn, Wordcloud ...\u001b[39;00m\n\u001b[1;32m      3\u001b[0m \u001b[39mimport\u001b[39;00m \u001b[39mrandom\u001b[39;00m \u001b[39m# random\u001b[39;00m\n",
      "\u001b[0;31mModuleNotFoundError\u001b[0m: No module named 'numpy'"
     ]
    }
   ],
   "source": [
    "import numpy as np # numpy inport\n",
    "import matplotlib.pyplot as plt # Visualize, Seaborn, Wordcloud ...\n",
    "import random # random\n",
    "x = (np.random.rand(100) * 100) # 0~1 * 100 numpy array\n",
    "y = (2*x + (np.random.rand(100) * 50)) #\n",
    "# numpy array\n",
    "plt.scatter(x, y, label = \"Data Scatter\")\n",
    "plt.legend()\n",
    "plt.show()\n",
    "# x ,y numpy array\n",
    "W = np.random.rand(1, 1) # W\n",
    "b = np.random.rand(1) # b\n",
    "# Wx + b\n",
    "print(W, b)\n",
    "x_data = x.reshape(100, 1)\n",
    "t_data = y.reshape(100, 1)\n",
    "h = np.dot(x_data, W) + b\n",
    "plt.scatter(x_data, t_data, label = \"Data Scatter\")\n",
    "plt.plot(x_data, h, color=\"Red\")\n",
    "plt.legend()\n",
    "plt.show()"
   ]
  }
 ],
 "metadata": {
  "kernelspec": {
   "display_name": "Python 3",
   "language": "python",
   "name": "python3"
  },
  "language_info": {
   "codemirror_mode": {
    "name": "ipython",
    "version": 3
   },
   "file_extension": ".py",
   "mimetype": "text/x-python",
   "name": "python",
   "nbconvert_exporter": "python",
   "pygments_lexer": "ipython3",
   "version": "3.10.4"
  },
  "orig_nbformat": 4
 },
 "nbformat": 4,
 "nbformat_minor": 2
}
