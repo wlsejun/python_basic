{
 "cells": [
  {
   "cell_type": "markdown",
   "metadata": {},
   "source": [
    "### Q1. 학생 이름과 점수를 입력하면 학점을 출력하는 학점 변환기를 만들어 봅시다. \n",
    "아래의 학점표를 토대로 만들어 주세요. [난이도 : ⭐️⭐️/5]\n",
    "\n",
    "\n",
    "    A+ : 95점 ~ 100점 / A : 90점 ~ 94점 / B+ : 85점 ~ 89점 / B : 80점 ~ 84점 / C+ : 75점 ~ 79점 / C : 70점 ~ 74점 / \n",
    "    D+ : 65점 ~ 69점 / D : 60점 ~ 64점 /  F : 60점미만"
   ]
  },
  {
   "cell_type": "markdown",
   "metadata": {},
   "source": [
    "------------------------------------------------------------"
   ]
  },
  {
   "cell_type": "markdown",
   "metadata": {},
   "source": [
    "[ LOGIC ]\n",
    "\n",
    "1. 학생의 이름과 점수를 입력 받는다.\n",
    "- 이름과 점수 변수를 설정하고 input 함수를 사용함.\n",
    "- 입력받은 점수를 float형으로 변환함. \n",
    "- *예외처리 : 사용자가 점수를 string형으로 입력했을 경우\n",
    "\n",
    "2. grader 함수를 만들고 if문을 사용하여 점수 범위를 나눈다.\n",
    "- 앞서 설정한 이름과 점수 변수를 인자로 받음.\n",
    "- 문제에서 설정한 점수 범위대로 학점 할당.\n",
    "    \n",
    "3. 학생이름, 점수, 학점을 출력한다.\n",
    "\n",
    "4. 이름과 점수 변수를 인자로 받는 grader 함수를 선언한다."
   ]
  },
  {
   "cell_type": "code",
   "execution_count": 2,
   "metadata": {},
   "outputs": [
    {
     "name": "stdout",
     "output_type": "stream",
     "text": [
      "학생이름 :  sejunkim \n",
      " 점수 : 99.0 \n",
      " 학점 : A+\n"
     ]
    }
   ],
   "source": [
    "name = input('What your name?')\n",
    "score = input('Enter your score :')\n",
    "\n",
    "try:\n",
    "    std_score = float(score)\n",
    "except:\n",
    "    print('Not a number')\n",
    "\n",
    "def grader(name, std_score) :\n",
    "\n",
    "    if std_score > 100 :\n",
    "        print('Invalid value')\n",
    "    elif std_score >= 95 :\n",
    "        grade = 'A+'\n",
    "    elif std_score >= 94 :\n",
    "        grade = 'A'\n",
    "    elif std_score >= 89 :\n",
    "        grade = 'B+'\n",
    "    elif std_score >= 84 :\n",
    "        grade = 'B'\n",
    "    elif std_score >= 79 :\n",
    "        grade = 'C+'\n",
    "    elif std_score >= 74 :\n",
    "        grade = 'C'\n",
    "    elif std_score >= 69 :\n",
    "        grade = 'D+'\n",
    "    elif std_score >= 64 :\n",
    "        grade = 'D'\n",
    "    else :\n",
    "        grade = 'F'\n",
    "\n",
    "    print('학생이름 : ', name, '\\n', '점수 :', std_score, '\\n', '학점 :', grade)\n",
    "\n",
    "grader(name, std_score)"
   ]
  }
 ],
 "metadata": {
  "kernelspec": {
   "display_name": "Python 3",
   "language": "python",
   "name": "python3"
  },
  "language_info": {
   "codemirror_mode": {
    "name": "ipython",
    "version": 3
   },
   "file_extension": ".py",
   "mimetype": "text/x-python",
   "name": "python",
   "nbconvert_exporter": "python",
   "pygments_lexer": "ipython3",
   "version": "3.10.4"
  },
  "orig_nbformat": 4
 },
 "nbformat": 4,
 "nbformat_minor": 2
}
