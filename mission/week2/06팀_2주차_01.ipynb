{
 "cells": [
  {
   "cell_type": "markdown",
   "metadata": {},
   "source": [
    "### Q1. 학생 이름과 점수를 입력하면 학점을 출력하는 학점 변환기를 만들어 봅시다. \n",
    "아래의 학점표를 토대로 만들어 주세요. [난이도 : ⭐️⭐️/5]\n",
    "\n",
    "\n",
    "    A+ : 95점 ~ 100점 / A : 90점 ~ 94점 / B+ : 85점 ~ 89점 / B : 80점 ~ 84점 / C+ : 75점 ~ 79점 / C : 70점 ~ 74점 / \n",
    "    D+ : 65점 ~ 69점 / D : 60점 ~ 64점 /  F : 60점미만"
   ]
  },
  {
   "cell_type": "markdown",
   "metadata": {},
   "source": [
    "------------------------------------------------------------"
   ]
  },
  {
   "cell_type": "markdown",
   "metadata": {},
   "source": [
    "[ LOGIC ]\n",
    "\n",
    "1. 학생의 이름과 점수를 입력 받는다.\n",
    "- 이름과 점수 변수를 설정하고 input 함수를 사용함.\n",
    "- 입력받은 점수를 float형으로 변환함. \n",
    "\n",
    "2. if문을 사용하여 점수 범위를 나눈다.\n",
    "- 문제에서 설정한 점수 범위대로 학점 할당.\n",
    "    \n",
    "3. 학생이름, 학점을 출력한다."
   ]
  },
  {
   "cell_type": "markdown",
   "metadata": {},
   "source": [
    "--------------------------------------------취합본--------------------------------------------"
   ]
  },
  {
   "cell_type": "code",
   "execution_count": 1,
   "metadata": {},
   "outputs": [
    {
     "name": "stdout",
     "output_type": "stream",
     "text": [
      "sejun 님의 학점은 B+ 입니다\n"
     ]
    }
   ],
   "source": [
    "name = input('Name : ')\n",
    "score = int(input('Student Score : '))\n",
    "\n",
    "if score < 60 :\n",
    "    grade = 'F'\n",
    "elif score <=64 :\n",
    "    grade = 'D'\n",
    "elif score <= 69 :\n",
    "    grade = 'D+'\n",
    "elif score <= 74 :\n",
    "    grade = 'C'\n",
    "elif score <= 79 :\n",
    "    grade = 'C+'\n",
    "elif score <= 84 :\n",
    "    grade = 'B'\n",
    "elif score <= 89 :\n",
    "    grade = 'B+'\n",
    "elif score <= 94 :\n",
    "    grade = 'A'\n",
    "else :\n",
    "    grade = 'A'\n",
    "\n",
    "print(name,\"님의 학점은\",grade,\"입니다\")\n"
   ]
  },
  {
   "cell_type": "markdown",
   "metadata": {},
   "source": [
    "--------------------------------------------김세준--------------------------------------------"
   ]
  },
  {
   "cell_type": "code",
   "execution_count": null,
   "metadata": {},
   "outputs": [],
   "source": [
    "# 1. 학생의 이름과 점수를 입력 받는다.\n",
    "# 2. grader 함수를 만들고 if문을 사용하여 점수 범위를 나눈다.\n",
    "# 3. 해당 점수범위에 맞는 학점을 출력한다.\n",
    "# 4. 학생이름, 점수, 학점을 출력한다.\n",
    "\n",
    "\n",
    "name = input('What your name?')\n",
    "score = input('Enter your score :')\n",
    "\n",
    "try:\n",
    "    std_score = float(score)\n",
    "except:\n",
    "    print('Not a number')\n",
    "\n",
    "def grader(name, std_score) :\n",
    "\n",
    "    if std_score > 100 :\n",
    "        print('Invalid value')\n",
    "    elif std_score >= 95 :\n",
    "        grade = 'A+'\n",
    "    elif std_score >= 94 :\n",
    "        grade = 'A'\n",
    "    elif std_score >= 89 :\n",
    "        grade = 'B+'\n",
    "    elif std_score >= 84 :\n",
    "        grade = 'B'\n",
    "    elif std_score >= 79 :\n",
    "        grade = 'C+'\n",
    "    elif std_score >= 74 :\n",
    "        grade = 'C'\n",
    "    elif std_score >= 69 :\n",
    "        grade = 'D+'\n",
    "    elif std_score >= 64 :\n",
    "        grade = 'D'\n",
    "    else :\n",
    "        grade = 'F'\n",
    "\n",
    "    print('학생이름 : ', name, '\\n', '점수 :', std_score, '\\n', '학점 :', grade)\n",
    "\n",
    "grader(name, std_score)"
   ]
  },
  {
   "cell_type": "markdown",
   "metadata": {},
   "source": [
    "--------------------------------------------신유리--------------------------------------------"
   ]
  },
  {
   "cell_type": "code",
   "execution_count": null,
   "metadata": {},
   "outputs": [],
   "source": [
    "name = input('Name : ')\n",
    "score = int(input('Student Score : '))\n",
    "if score < 60 :\n",
    "    print(name,'score : F')\n",
    "elif score <=64 :\n",
    "    print(name,'score : D')\n",
    "elif score <= 69 :\n",
    "    print(name,'score : D+')\n",
    "elif score <= 74 :\n",
    "    print(name,'score : C')\n",
    "elif score <= 79 :\n",
    "    print(name,'score : C+')\n",
    "elif score <= 84 :\n",
    "    print(name,'score : B')\n",
    "elif score <= 89 :\n",
    "    print(name,'score : B+')\n",
    "elif score <= 94 :\n",
    "    print(name,'score : A')\n",
    "# 100점 이상이 나오면 안된다는 에러메세지 넣어줘야할까. 문제에 없으니 일단 생략\n",
    "else :\n",
    "    print(name,'score : A+')"
   ]
  },
  {
   "cell_type": "markdown",
   "metadata": {},
   "source": [
    "--------------------------------------------Finn--------------------------------------------"
   ]
  },
  {
   "cell_type": "code",
   "execution_count": null,
   "metadata": {},
   "outputs": [],
   "source": [
    "#Q1 학점 변환기-------------------------------------------------\n",
    "name = input(\"이름을 입력해주세요\")\n",
    "score = int(input(\"점수를 입력해주세요\"))\n",
    "\n",
    "if score >= 95 : \n",
    "    grade = \"A+\"\n",
    "elif score < 95 and score >= 90 :\n",
    "    grade = \"A\"\n",
    "elif score < 90 and score >= 85 :\n",
    "    grade = \"B+\"\n",
    "elif score < 85 and score >= 80 :\n",
    "    grade = \"B\"\n",
    "elif score < 80 and score >= 75 :\n",
    "    grade = \"C+\"\n",
    "elif score < 75 and score >= 70 :\n",
    "    grade = \"C\"\n",
    "elif score < 70 and score >= 65 :\n",
    "    grade = \"D+\"\n",
    "elif score < 65 and score >= 60 :\n",
    "    grade = \"D\"\n",
    "else :\n",
    "    grade = \"F\"\n",
    "\n",
    "print(name,\"님의 학점은\",grade,\"입니다\")"
   ]
  },
  {
   "cell_type": "markdown",
   "metadata": {},
   "source": [
    "--------------------------------------------초이--------------------------------------------"
   ]
  },
  {
   "cell_type": "code",
   "execution_count": null,
   "metadata": {},
   "outputs": [],
   "source": [
    "name  = input(\"학생의 이름은 무엇입니까? : \")\n",
    "score  = int(input(\"점수: \"))\n",
    "\n",
    "print(f\"{name}: {score}점\")\n",
    "if score >= 95:   \n",
    "    print(\"결과: A+등급\")\n",
    "elif 90 <= score <= 94 : \n",
    "    print(\"결과: A등급\")\n",
    "elif 85 <= score <= 89 : \n",
    "    print(\"결과: B+등급\")\n",
    "elif 80 <= score <= 84 : \n",
    "    print(\"결과: B등급\")\n",
    "elif 75 <= score <= 79 : \n",
    "    print(\"결과: C+등급\")\n",
    "elif 70 <= score <= 74 : \n",
    "    print(\"결과: C등급\")\n",
    "elif 65 <= score <= 69 : \n",
    "    print(\"결과: D+등급\")\n",
    "elif 60 <= score <= 64 : \n",
    "    print(\"결과: D등급\")\n",
    "else:          \n",
    "    print(\"결과: F등급\")"
   ]
  }
 ],
 "metadata": {
  "kernelspec": {
   "display_name": "Python 3",
   "language": "python",
   "name": "python3"
  },
  "language_info": {
   "codemirror_mode": {
    "name": "ipython",
    "version": 3
   },
   "file_extension": ".py",
   "mimetype": "text/x-python",
   "name": "python",
   "nbconvert_exporter": "python",
   "pygments_lexer": "ipython3",
   "version": "3.10.4"
  },
  "orig_nbformat": 4
 },
 "nbformat": 4,
 "nbformat_minor": 2
}
