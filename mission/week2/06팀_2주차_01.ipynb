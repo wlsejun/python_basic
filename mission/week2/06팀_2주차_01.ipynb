{
 "cells": [
  {
   "cell_type": "markdown",
   "metadata": {},
   "source": [
    "### Q1. 학생 이름과 점수를 입력하면 학점을 출력하는 학점 변환기를 만들어 봅시다. \n",
    "아래의 학점표를 토대로 만들어 주세요. [난이도 : ⭐️⭐️/5]\n",
    "\n",
    "\n",
    "    A+ : 95점 ~ 100점 / A : 90점 ~ 94점 / B+ : 85점 ~ 89점 / B : 80점 ~ 84점 / C+ : 75점 ~ 79점 / C : 70점 ~ 74점 / \n",
    "    D+ : 65점 ~ 69점 / D : 60점 ~ 64점 /  F : 60점미만"
   ]
  },
  {
   "cell_type": "markdown",
   "metadata": {},
   "source": [
    "------------------------------------------------------------"
   ]
  },
  {
   "cell_type": "markdown",
   "metadata": {},
   "source": [
    "[ LOGIC ]\n",
    "\n",
    "1. 학생의 이름과 점수를 입력 받는다.\n",
    "- 이름과 점수 변수를 설정하고 input 함수를 사용함.\n",
    "- 입력받은 점수를 float형으로 변환함. \n",
    "\n",
    "2. if문을 사용하여 점수 범위를 나눈다.\n",
    "- 문제에서 설정한 점수 범위대로 학점 할당.\n",
    "    \n",
    "3. 학생이름, 학점을 출력한다."
   ]
  },
  {
   "cell_type": "code",
   "execution_count": 1,
   "metadata": {},
   "outputs": [
    {
     "name": "stdout",
     "output_type": "stream",
     "text": [
      "sejun 님의 학점은 B+ 입니다\n"
     ]
    }
   ],
   "source": [
    "name = input('Name : ')\n",
    "score = int(input('Student Score : '))\n",
    "\n",
    "if score < 60 :\n",
    "    grade = 'F'\n",
    "elif score <=64 :\n",
    "    grade = 'D'\n",
    "elif score <= 69 :\n",
    "    grade = 'D+'\n",
    "elif score <= 74 :\n",
    "    grade = 'C'\n",
    "elif score <= 79 :\n",
    "    grade = 'C+'\n",
    "elif score <= 84 :\n",
    "    grade = 'B'\n",
    "elif score <= 89 :\n",
    "    grade = 'B+'\n",
    "elif score <= 94 :\n",
    "    grade = 'A'\n",
    "else :\n",
    "    grade = 'A'\n",
    "\n",
    "print(name,\"님의 학점은\",grade,\"입니다\")\n"
   ]
  }
 ],
 "metadata": {
  "kernelspec": {
   "display_name": "Python 3",
   "language": "python",
   "name": "python3"
  },
  "language_info": {
   "codemirror_mode": {
    "name": "ipython",
    "version": 3
   },
   "file_extension": ".py",
   "mimetype": "text/x-python",
   "name": "python",
   "nbconvert_exporter": "python",
   "pygments_lexer": "ipython3",
   "version": "3.10.4"
  },
  "orig_nbformat": 4
 },
 "nbformat": 4,
 "nbformat_minor": 2
}
