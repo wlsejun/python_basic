{
 "cells": [
  {
   "cell_type": "markdown",
   "metadata": {},
   "source": [
    "### Q2. 월급을 입력하면 연봉을 계산해주는 계산기를 만들어 봅시다.\n",
    "\n",
    "아래의 세율 표를 토대로 만들어 주세요. [난이도 : ⭐️⭐️/5]\n",
    "\n",
    "    1200만원 이하 : 6% / 4600만원 이하 : 15% / 8800만원 이하 : 24% / 1억 5천만원 이하 : 35% / 3억원 이하 : 38% / \n",
    "    5억원 이하 : 40% / 5억원 초과 : 42%"
   ]
  },
  {
   "cell_type": "markdown",
   "metadata": {},
   "source": [
    "------------------------------------------------------------"
   ]
  },
  {
   "cell_type": "markdown",
   "metadata": {},
   "source": [
    "[ LOGIC ]\n",
    "\n",
    "1. 월급을 입력 받는다.\n",
    "- 월급 변수를 설정하고 input 함수를 사용함.\n",
    "- 월급 변수를 float형으로 변환함.\n",
    "- 세전연봉 = 월급 * 12 \n",
    "\n",
    "2. if문을 사용하여 세전연봉 범위를 나눈다.\n",
    "    \n",
    "3. 세후연봉을 구한다.\n",
    "- 세후연봉 = 세전연봉 * (1-세금)\n",
    "\n",
    "4. print 함수를 통해 세전연봉, 세후연봉을 출력한다."
   ]
  },
  {
   "cell_type": "markdown",
   "metadata": {},
   "source": [
    "--------------------------------------------취합본--------------------------------------------"
   ]
  },
  {
   "cell_type": "code",
   "execution_count": 3,
   "metadata": {},
   "outputs": [
    {
     "name": "stdout",
     "output_type": "stream",
     "text": [
      "세전연봉 : 4800, \n",
      "세후연봉 : 3648.00\n"
     ]
    }
   ],
   "source": [
    "# 월급 입력  //  세전연봉 세후연봉 전부 출력\n",
    "month = float(input('월급(단위 : 만원)을 입력해주세요 :'))\n",
    "pay = month*12\n",
    "\n",
    "if pay <= 1200 :\n",
    "    before = pay\n",
    "    after = pay*0.94\n",
    "elif pay <= 4600 :\n",
    "    before = pay\n",
    "    after = pay*0.85\n",
    "elif pay <= 8800 :\n",
    "    before = pay\n",
    "    after = pay*0.76\n",
    "elif pay <= 15000 :\n",
    "    before = pay\n",
    "    after = pay*0.65\n",
    "elif pay <= 30000 :\n",
    "    before = pay\n",
    "    after = pay*0.62\n",
    "elif pay <= 50000 :\n",
    "    before = pay\n",
    "    after = pay*0.60\n",
    "else :\n",
    "    before = pay\n",
    "    after = pay*0.58\n",
    "      \n",
    "print('세전연봉 : %d, \\n세후연봉 : %.2f' %(before, after))"
   ]
  },
  {
   "cell_type": "markdown",
   "metadata": {},
   "source": [
    "--------------------------------------------김세준--------------------------------------------"
   ]
  },
  {
   "cell_type": "code",
   "execution_count": null,
   "metadata": {},
   "outputs": [],
   "source": [
    "# 1. 월급을 입력받는다.\n",
    "# 2. 세전 연봉을 구한다. __(월급 * 12)\n",
    "# 3. 세금을 구한다. __(세전연봉 * 세전연봉 구간에 맞는 세율)\n",
    "# 4. 세후 연봉을 구한다. __(세전 연봉 - 세금)\n",
    "# 5. 세전 연봉과 세후 연봉을 출력한다.\n",
    "\n",
    "# 함수로 만들기\n",
    "\n",
    "m_pay = float(input('월급(단위 : 만원)을 입력해주세요 :'))\n",
    "\n",
    "try:\n",
    "    monthly_payment = m_pay * 12\n",
    "except:\n",
    "    print('Invalid value')\n",
    "\n",
    "def yearly_payment(monthly_payment) :\n",
    "\n",
    "    if monthly_payment <= 1200 :\n",
    "        tax = monthly_payment * 0.06\n",
    "    elif monthly_payment <= 4600 :\n",
    "        tax = monthly_payment * 0.15\n",
    "    elif monthly_payment <= 8800 :\n",
    "        tax = monthly_payment * 0.24\n",
    "    elif monthly_payment <= 15000 :\n",
    "        tax = monthly_payment * 0.35\n",
    "    elif monthly_payment <= 30000 :\n",
    "        tax = monthly_payment * 0.38\n",
    "    elif monthly_payment <= 50000 :\n",
    "        tax = monthly_payment * 0.40\n",
    "    else :\n",
    "        tax = monthly_payment * 0.42\n",
    "\n",
    "    yearly_payment = monthly_payment - tax\n",
    "\n",
    "    print('세전연봉 :', monthly_payment, '\\n', '세후연봉 :', yearly_payment)\n",
    "\n",
    "yearly_payment(monthly_payment)"
   ]
  },
  {
   "cell_type": "markdown",
   "metadata": {},
   "source": [
    "--------------------------------------------신유리--------------------------------------------"
   ]
  },
  {
   "cell_type": "code",
   "execution_count": null,
   "metadata": {},
   "outputs": [],
   "source": [
    "#2. 월급 입력  //  세전연봉 세후연봉 전부 출력\n",
    "month = int(input('Your pay : '))\n",
    "pay = month*12\n",
    "if pay <= 1200 :\n",
    "    before = pay\n",
    "    after = pay*0.94\n",
    "       # print('세전연봉 : %d'%before, '세후연봉 : %f'&after)\n",
    "elif pay <= 4600 :\n",
    "    before = pay\n",
    "    after = pay*0.85\n",
    "        #print('세전연봉 : %d'%before, '세후연봉 : %f'&after)\n",
    "elif pay <= 8800 :\n",
    "    before = pay\n",
    "    after = pay*0.76\n",
    "        #print('세전연봉 : %d'%before, '세후연봉 : %f'&after)\n",
    "elif pay <= 15000 :\n",
    "    before = pay\n",
    "    after = pay*0.65\n",
    "       # print('세전연봉 : %d'%before, '세후연봉 : %f'&after)\n",
    "elif pay <= 30000 :\n",
    "    before = pay\n",
    "    after = pay*0.62\n",
    "      #  print('세전연봉 : %d'%before, '세후연봉 : %f'&after)\n",
    "elif pay <= 50000 :\n",
    "    before = pay\n",
    "    after = pay*0.60\n",
    "       # print('세전연봉 : %d'%before, '세후연봉 : %f'&after)\n",
    "else :\n",
    "    before = pay\n",
    "    after = pay*0.58\n",
    "      #  print('세전연봉 : %d'%before, '세후연봉 : %f'&after)\n",
    "print('세전연봉 : %d, 세후연봉 : %.2f' %(before, after))"
   ]
  },
  {
   "cell_type": "markdown",
   "metadata": {},
   "source": [
    "--------------------------------------------Finn--------------------------------------------"
   ]
  },
  {
   "cell_type": "code",
   "execution_count": null,
   "metadata": {},
   "outputs": [],
   "source": [
    "#Q2 학점 변환기-------------------------------------------------\n",
    "name=input(\"이름을 입력해주세요\")\n",
    "income = 12*float(input(\"월급을 입력해주세요\"))\n",
    "\n",
    "if income <= 1200 : \n",
    "    tax_income = income * 0.94\n",
    "elif income <= 4600 : \n",
    "    tax_income = income * 0.85\n",
    "elif income <= 8800 : \n",
    "    tax_income = income * 0.76\n",
    "elif income <= 15000 : \n",
    "    tax_income = income * 0.65\n",
    "elif income <= 30000 : \n",
    "    tax_income = income * 0.62\n",
    "elif income <= 50000 : \n",
    "    tax_income = income * 0.60\n",
    "else : \n",
    "    tax_income = income * 0.58\n",
    "\n",
    "print (name,\"님의 세전연봉은\",income,\"만원입니다\")\n",
    "print (name,\"님의 세후연봉은\",tax_income,\"만원입니다\")"
   ]
  },
  {
   "cell_type": "markdown",
   "metadata": {},
   "source": [
    "--------------------------------------------초이--------------------------------------------"
   ]
  },
  {
   "cell_type": "code",
   "execution_count": null,
   "metadata": {},
   "outputs": [],
   "source": [
    "monthly_payment = int(input(\"Enter your pay(단위 만원): \"))\n",
    "yearly_payment = int(monthly_payment * 12)\n",
    "\n",
    "print(f\"세전연봉: {yearly_payment}만원\")\n",
    "\n",
    "if yearly_payment >= 1200:   \n",
    "    real_yearly_payment = yearly_payment - (yearly_payment * 0.06)\n",
    "    print(f\"세후연봉: {real_yearly_payment}만원\")\n",
    "elif 1200 < yearly_payment <= 4600 :   \n",
    "    real_yearly_payment = yearly_payment - (yearly_payment *0.15)\n",
    "    print(f\"세후연봉: {real_yearly_payment}만원\")\n",
    "elif 4600 < yearly_payment <= 8800 :   \n",
    "    real_yearly_payment = yearly_payment - (yearly_payment *0.24)\n",
    "    print(f\"세후연봉: {real_yearly_payment}만원\")\n",
    "elif 8800 < yearly_payment <= 15000 :   \n",
    "    real_yearly_payment = yearly_payment - (yearly_payment *0.35)\n",
    "    print(f\"세후연봉: {real_yearly_payment}만원\")\n",
    "elif 15000 < yearly_payment <= 30000 :   \n",
    "    real_yearly_payment = yearly_payment - (yearly_payment *0.38)\n",
    "    print(f\"세후연봉: {real_yearly_payment}만원\")\n",
    "elif 30000 < yearly_payment <= 500000 :   \n",
    "    real_yearly_payment = yearly_payment - (yearly_payment *0.4)\n",
    "    print(f\"세후연봉: {real_yearly_payment}만원\")\n",
    "else:          \n",
    "    real_yearly_payment = yearly_payment - (yearly_payment *0.42)\n",
    "    print(f\"세후연봉: {real_yearly_payment}만원\")"
   ]
  }
 ],
 "metadata": {
  "kernelspec": {
   "display_name": "Python 3",
   "language": "python",
   "name": "python3"
  },
  "language_info": {
   "codemirror_mode": {
    "name": "ipython",
    "version": 3
   },
   "file_extension": ".py",
   "mimetype": "text/x-python",
   "name": "python",
   "nbconvert_exporter": "python",
   "pygments_lexer": "ipython3",
   "version": "3.10.4"
  },
  "orig_nbformat": 4
 },
 "nbformat": 4,
 "nbformat_minor": 2
}
