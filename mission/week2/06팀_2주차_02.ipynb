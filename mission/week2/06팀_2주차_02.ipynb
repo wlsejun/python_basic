{
 "cells": [
  {
   "cell_type": "markdown",
   "metadata": {},
   "source": [
    "### Q2. 월급을 입력하면 연봉을 계산해주는 계산기를 만들어 봅시다.\n",
    "\n",
    "아래의 세율 표를 토대로 만들어 주세요. [난이도 : ⭐️⭐️/5]\n",
    "\n",
    "    1200만원 이하 : 6% / 4600만원 이하 : 15% / 8800만원 이하 : 24% / 1억 5천만원 이하 : 35% / 3억원 이하 : 38% / \n",
    "    5억원 이하 : 40% / 5억원 초과 : 42%"
   ]
  },
  {
   "cell_type": "markdown",
   "metadata": {},
   "source": [
    "------------------------------------------------------------"
   ]
  },
  {
   "cell_type": "markdown",
   "metadata": {},
   "source": [
    "[ LOGIC ]\n",
    "\n",
    "1. 월급을 입력 받는다.\n",
    "- 월급 변수를 설정하고 input 함수를 사용함.\n",
    "- 월급 변수를 float형으로 변환함. \n",
    "- *예외처리 : 사용자가 점수를 string형으로 입력했을 경우\n",
    "\n",
    "2. yearly-payment 함수를 만들고 if문을 사용하여 세전연봉 범위를 나눈다.\n",
    "- 앞서 설정한 월급 변수를 인자로 받음.\n",
    "- 세전연봉 = 월급 *12\n",
    "- 문제에서 설정한 세전연봉 범위대로 세금을 할당함.\n",
    "    \n",
    "3. 세후연봉을 구한다.\n",
    "- 세후연봉 = 세전연봉 - 세금\n",
    "\n",
    "4. print 함수를 통해 세전연봉, 세후연봉을 출력한다.\n",
    "\n",
    "5. 월급 변수를 인자로 받는 yearly-payment 함수를 선언한다."
   ]
  },
  {
   "cell_type": "code",
   "execution_count": 2,
   "metadata": {},
   "outputs": [
    {
     "name": "stdout",
     "output_type": "stream",
     "text": [
      "세전연봉 : 3600.0 \n",
      " 세후연봉 : 3060.0\n"
     ]
    }
   ],
   "source": [
    "monthly_payment = float(input('월급(단위 : 만원)을 입력해주세요 :'))\n",
    "\n",
    "try:\n",
    "    def yearly_payment(monthly_payment) :\n",
    "\n",
    "        beforeTax_payment = monthly_payment * 12\n",
    "\n",
    "        if beforeTax_payment <= 1200 :\n",
    "            tax = beforeTax_payment * 0.06\n",
    "        elif beforeTax_payment <= 4600 :\n",
    "            tax = beforeTax_payment * 0.15\n",
    "        elif beforeTax_payment <= 8800 :\n",
    "            tax = beforeTax_payment * 0.24\n",
    "        elif beforeTax_payment <= 15000 :\n",
    "            tax = beforeTax_payment * 0.35\n",
    "        elif beforeTax_payment <= 30000 :\n",
    "            tax = beforeTax_payment * 0.38\n",
    "        elif beforeTax_payment <= 50000 :\n",
    "            tax = beforeTax_payment * 0.40\n",
    "        else :\n",
    "            tax = beforeTax_payment * 0.42\n",
    "\n",
    "        yearly_payment = beforeTax_payment - tax\n",
    "\n",
    "        print('세전연봉 :', beforeTax_payment, '\\n', '세후연봉 :', yearly_payment)\n",
    "\n",
    "except:\n",
    "    print('Invalid value')\n",
    "\n",
    "yearly_payment(monthly_payment)"
   ]
  }
 ],
 "metadata": {
  "kernelspec": {
   "display_name": "Python 3",
   "language": "python",
   "name": "python3"
  },
  "language_info": {
   "codemirror_mode": {
    "name": "ipython",
    "version": 3
   },
   "file_extension": ".py",
   "mimetype": "text/x-python",
   "name": "python",
   "nbconvert_exporter": "python",
   "pygments_lexer": "ipython3",
   "version": "3.10.4"
  },
  "orig_nbformat": 4
 },
 "nbformat": 4,
 "nbformat_minor": 2
}
