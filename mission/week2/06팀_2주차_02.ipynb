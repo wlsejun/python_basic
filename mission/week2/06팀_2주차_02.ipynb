{
 "cells": [
  {
   "cell_type": "markdown",
   "metadata": {},
   "source": [
    "### Q2. 월급을 입력하면 연봉을 계산해주는 계산기를 만들어 봅시다.\n",
    "\n",
    "아래의 세율 표를 토대로 만들어 주세요. [난이도 : ⭐️⭐️/5]\n",
    "\n",
    "    1200만원 이하 : 6% / 4600만원 이하 : 15% / 8800만원 이하 : 24% / 1억 5천만원 이하 : 35% / 3억원 이하 : 38% / \n",
    "    5억원 이하 : 40% / 5억원 초과 : 42%"
   ]
  },
  {
   "cell_type": "markdown",
   "metadata": {},
   "source": [
    "------------------------------------------------------------"
   ]
  },
  {
   "cell_type": "markdown",
   "metadata": {},
   "source": [
    "[ LOGIC ]\n",
    "\n",
    "1. 월급을 입력 받는다.\n",
    "- 월급 변수를 설정하고 input 함수를 사용함.\n",
    "- 월급 변수를 float형으로 변환함.\n",
    "- 세전연봉 = 월급 * 12 \n",
    "\n",
    "2. if문을 사용하여 세전연봉 범위를 나눈다.\n",
    "    \n",
    "3. 세후연봉을 구한다.\n",
    "- 세후연봉 = 세전연봉 * (1-세금)\n",
    "\n",
    "4. print 함수를 통해 세전연봉, 세후연봉을 출력한다."
   ]
  },
  {
   "cell_type": "code",
   "execution_count": 3,
   "metadata": {},
   "outputs": [
    {
     "name": "stdout",
     "output_type": "stream",
     "text": [
      "세전연봉 : 4800, \n",
      "세후연봉 : 3648.00\n"
     ]
    }
   ],
   "source": [
    "# 월급 입력  //  세전연봉 세후연봉 전부 출력\n",
    "month = float(input('월급(단위 : 만원)을 입력해주세요 :'))\n",
    "pay = month*12\n",
    "\n",
    "if pay <= 1200 :\n",
    "    before = pay\n",
    "    after = pay*0.94\n",
    "elif pay <= 4600 :\n",
    "    before = pay\n",
    "    after = pay*0.85\n",
    "elif pay <= 8800 :\n",
    "    before = pay\n",
    "    after = pay*0.76\n",
    "elif pay <= 15000 :\n",
    "    before = pay\n",
    "    after = pay*0.65\n",
    "elif pay <= 30000 :\n",
    "    before = pay\n",
    "    after = pay*0.62\n",
    "elif pay <= 50000 :\n",
    "    before = pay\n",
    "    after = pay*0.60\n",
    "else :\n",
    "    before = pay\n",
    "    after = pay*0.58\n",
    "      \n",
    "print('세전연봉 : %d, \\n세후연봉 : %.2f' %(before, after))"
   ]
  }
 ],
 "metadata": {
  "kernelspec": {
   "display_name": "Python 3",
   "language": "python",
   "name": "python3"
  },
  "language_info": {
   "codemirror_mode": {
    "name": "ipython",
    "version": 3
   },
   "file_extension": ".py",
   "mimetype": "text/x-python",
   "name": "python",
   "nbconvert_exporter": "python",
   "pygments_lexer": "ipython3",
   "version": "3.10.4"
  },
  "orig_nbformat": 4
 },
 "nbformat": 4,
 "nbformat_minor": 2
}
