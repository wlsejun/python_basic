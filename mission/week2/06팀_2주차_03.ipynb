{
 "cells": [
  {
   "cell_type": "markdown",
   "metadata": {},
   "source": [
    "### Q3. 나이와 지불 방법을 입력하면, 버스 요금이 출력되는 버스 요금 계산기를 만들어봅시다.\n",
    "아래의 요금표를 토대로 만들어주세요! [난이도 : ⭐️⭐️/5] "
   ]
  },
  {
   "cell_type": "markdown",
   "metadata": {},
   "source": [
    "------------------------------------------------------------"
   ]
  },
  {
   "cell_type": "markdown",
   "metadata": {},
   "source": [
    "[ LOGIC ]\n",
    "\n",
    "1. 나이와 지불방법(카드, 현금)을 입력 받는다.\n",
    "- 나이, 지불방법 변수를 설정하고 input 함수를 사용함.\n",
    "- 나이 변수를 int형으로 변환함. \n",
    "\n",
    "2. if문을 사용하여 나이 범위를 나눈다.\n",
    "- 나이 범위 안에서 지불방법(카드/현금)에 따라 범위를 나눔.\n",
    "\n",
    "4. 나이, 지불방법, 가격을 출력한다."
   ]
  },
  {
   "cell_type": "markdown",
   "metadata": {},
   "source": [
    "--------------------------------------------취합본--------------------------------------------"
   ]
  },
  {
   "cell_type": "code",
   "execution_count": 3,
   "metadata": {},
   "outputs": [
    {
     "name": "stdout",
     "output_type": "stream",
     "text": [
      "버스 이용 요금은 카드 결제 시 무료 입니다\n"
     ]
    }
   ],
   "source": [
    "# 나이, 지불방법 입력  //  버스 요금(계산) -> 출력\n",
    "age = int(input('나이를 입력해주세요 :'))\n",
    "pay = input('현금/카드 중 지불 방법을 입력해주세요 :')\n",
    "\n",
    "# # 반복적인 if-else 사용보다 더 간단한 방법은 없을까?\n",
    "if age < 8 :\n",
    "    cost = '무료'\n",
    "elif age < 14 :\n",
    "    if pay == '현금' :\n",
    "        cost = 450\n",
    "    else :\n",
    "        cost = 450\n",
    "elif age < 20 :\n",
    "    if pay == '현금' :\n",
    "        cost = 720\n",
    "    else :\n",
    "        cost = 1000\n",
    "elif age < 75 :\n",
    "    if pay == '현금' :\n",
    "        cost = 1200\n",
    "    else :\n",
    "        cost = 1300\n",
    "else :\n",
    "    cost = '무료'\n",
    "\n",
    "print(\"버스 이용 요금은\",pay,\"결제 시\",cost,\"입니다\")\n"
   ]
  },
  {
   "cell_type": "markdown",
   "metadata": {},
   "source": [
    "--------------------------------------------김세준--------------------------------------------"
   ]
  },
  {
   "cell_type": "code",
   "execution_count": null,
   "metadata": {},
   "outputs": [],
   "source": [
    "# 1. 나이와 지불 방법(카드, 현금)을 입력받는다. *예외처리 : 현금/카드로 입력하지 않은 경우\n",
    "# 2. 나이 및 지불 방법에 따라 요금을 구분한다.\n",
    "# 3. 입력받은 정보에 따른 요금을 출력한다.\n",
    "\n",
    "age = int(input('나이를 입력해주세요 :'))\n",
    "pay = input('현금/카드 중 지불 방법을 입력해주세요 :')\n",
    "\n",
    "try:\n",
    "    if pay == '현금' and pay == '카드':\n",
    "\n",
    "        def busfare(age, pay) :\n",
    "            if age < 8 :\n",
    "                cost = '무료'\n",
    "            elif 8 <= age < 14 :\n",
    "                if pay == '현금' :\n",
    "                    cost = 450\n",
    "                elif pay == '카드' :\n",
    "                    cost = 450\n",
    "            elif 14 <= age < 20 :\n",
    "                if pay == '현금' :\n",
    "                    cost = 720\n",
    "                elif pay == '카드' :\n",
    "                    cost = 1000\n",
    "            elif 20 <= age < 75 :\n",
    "                if pay == '현금' :\n",
    "                    cost = 1200\n",
    "                elif pay == '카드' :\n",
    "                    cost = 1300\n",
    "            else :\n",
    "                cost = '무료'\n",
    "\n",
    "            print('나이 :', age, '\\n', '지불유형 :', pay, '\\n', '버스요금 :', cost)\n",
    "            \n",
    "    else: raise ValueError\n",
    "except:\n",
    "    print('Invalid value')"
   ]
  },
  {
   "cell_type": "markdown",
   "metadata": {},
   "source": [
    "--------------------------------------------신유리--------------------------------------------"
   ]
  },
  {
   "cell_type": "code",
   "execution_count": null,
   "metadata": {},
   "outputs": [],
   "source": [
    "# #3. 나이, 지불방법 입력  //  버스 요금(계산) -> 출력\n",
    "# # 나이 -> 지불 방법 -> 출력\n",
    "age = int(input('Your age : '))\n",
    "pay = str(input('How to pay : '))\n",
    "# # if-else 안에 넣기 싫은데 더 간단한거 없나\n",
    "if age < 8 :\n",
    "    print('요금은 무료입니다.')\n",
    "elif age < 14 :\n",
    "    if pay == '카드' :\n",
    "        print('요금은 450원 입니다.')\n",
    "    else :\n",
    "        print('요금은 450원 입니다.')\n",
    "elif age < 20 :\n",
    "    if pay == '카드' :\n",
    "        print('요금은 720원 입니다.')\n",
    "    else :\n",
    "        print('요금은 1000원 입니다.')\n",
    "elif age < 75 :\n",
    "    if pay == '카드' :\n",
    "        print('요금은 1200원 입니다.')\n",
    "    else :\n",
    "        print('요금은 1300원 입니다.')\n",
    "else :\n",
    "    print('요금은 무료입니다.')"
   ]
  },
  {
   "cell_type": "markdown",
   "metadata": {},
   "source": [
    "--------------------------------------------Finn--------------------------------------------"
   ]
  },
  {
   "cell_type": "code",
   "execution_count": null,
   "metadata": {},
   "outputs": [],
   "source": [
    "#Q3 버스요금 변환기-------------------------------------------------\n",
    "age_list=[\"영유아 및 노인\",\"어린이\",\"청소년\",\"성인\"]\n",
    "age = int(input(\"탑승자의 나이를 입력해주세요\"))\n",
    "while age <= 0 : \n",
    "    age = int(input(\"나이를 다시 입력해주세요\"))\n",
    "if age < 8 or age >=75 :\n",
    "    age_group = age_list[0]\n",
    "elif age < 14 : \n",
    "    age_group = age_list[1]\n",
    "elif age < 20 : \n",
    "    age_group = age_list[2]\n",
    "else : \n",
    "    age_group = age_list[3]\n",
    "\n",
    "\n",
    "pay_list=[\"현금\",\"카드\"]\n",
    "pay = int(input(\"지불 방법을 선택해주세요. [현금:1, 카드:2]\"))\n",
    "while pay != 1 and pay != 2 : \n",
    "    pay = int(input(\"지불 방법을 다시 선택해주세요. [현금:1, 카드:2]\"))\n",
    "if pay == 1 : \n",
    "    payment = pay_list[0]\n",
    "elif pay == 2 : \n",
    "    payment = pay_list[1]\n",
    "\n",
    "\n",
    "if age_group == \"영유아 및 노인\" :\n",
    "    price = \"무료\"\n",
    "elif age_group == \"어린이\" : \n",
    "    if payment == \"현금\" : \n",
    "        price = 450\n",
    "    elif payment== \"카드\" : \n",
    "        price = 450\n",
    "elif age_group == \"청소년\" : \n",
    "    if payment == \"현금\" : \n",
    "        price = 1000\n",
    "    elif payment== \"카드\" : \n",
    "        price = 720\n",
    "elif age_group == \"성인\" : \n",
    "    if payment == \"현금\" : \n",
    "        price = 1300\n",
    "    elif payment== \"카드\" : \n",
    "        price = 1200\n",
    "\n",
    "print(age_group,\"의 버스 이용 요금은\",payment,\"결제 시\",price,\"원 입니다\")"
   ]
  },
  {
   "cell_type": "markdown",
   "metadata": {},
   "source": [
    "--------------------------------------------초이--------------------------------------------"
   ]
  },
  {
   "cell_type": "code",
   "execution_count": null,
   "metadata": {},
   "outputs": [],
   "source": [
    "year = int(input(\"나이: \"))\n",
    "card = input(\"카드 소지[yes/no]: \").lower()\n",
    "\n",
    "if 8 <= year < 14 and card in (\"yes\", \"no\", \"y\"):\n",
    "    print(\"%d원\"%450)\n",
    "elif 14 <= year < 20 and card in (\"yes\", \"ye\", \"y\"):\n",
    "    print(\"%d원\"%720)\n",
    "elif 14 <= year < 20 and card in (\"no\", \"nooo\", \"n\"):\n",
    "    print(\"%d원\"%1000)\n",
    "elif 20 <= year < 75 and card in (\"no\", \"nooo\", \"n\"):\n",
    "    print(\"%d원\"%1300)\n",
    "elif 20 <= year < 75 and card in (\"yes\", \"ye\", \"y\"):\n",
    "    print(\"%d원\"%1200)\n",
    "else:\n",
    "    print(\"It's free!!!!!!\")"
   ]
  }
 ],
 "metadata": {
  "kernelspec": {
   "display_name": "Python 3",
   "language": "python",
   "name": "python3"
  },
  "language_info": {
   "codemirror_mode": {
    "name": "ipython",
    "version": 3
   },
   "file_extension": ".py",
   "mimetype": "text/x-python",
   "name": "python",
   "nbconvert_exporter": "python",
   "pygments_lexer": "ipython3",
   "version": "3.10.4"
  },
  "orig_nbformat": 4
 },
 "nbformat": 4,
 "nbformat_minor": 2
}
