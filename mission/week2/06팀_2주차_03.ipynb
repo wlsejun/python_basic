{
 "cells": [
  {
   "cell_type": "markdown",
   "metadata": {},
   "source": [
    "### Q3. 나이와 지불 방법을 입력하면, 버스 요금이 출력되는 버스 요금 계산기를 만들어봅시다.\n",
    "아래의 요금표를 토대로 만들어주세요! [난이도 : ⭐️⭐️/5] "
   ]
  },
  {
   "cell_type": "markdown",
   "metadata": {},
   "source": [
    "------------------------------------------------------------"
   ]
  },
  {
   "cell_type": "markdown",
   "metadata": {},
   "source": [
    "[ LOGIC ]\n",
    "\n",
    "1. 나이와 지불방법(카드, 현금)을 입력 받는다.\n",
    "- 나이, 지불방법 변수를 설정하고 input 함수를 사용함.\n",
    "- 나이 변수를 int형으로 변환함. \n",
    "- *예외처리 : 지불방법을 카드/현금으로 입력하지 않은 경우\n",
    "\n",
    "2. busfare 함수를 만들고 if문을 사용하여 나이 범위를 나눈다.\n",
    "- 앞서 설정한 나이, 지불방법 변수를 인자로 받음.\n",
    "- 문제에서 설정한 세전연봉 범위대로 가격 할당함.\n",
    "\n",
    "4. 나이, 지불방법, 가격을 출력한다.\n",
    "\n",
    "5. 나이, 지불방법 변수를 인자로 받는 busfare 함수를 선언한다.\n"
   ]
  },
  {
   "cell_type": "code",
   "execution_count": 1,
   "metadata": {},
   "outputs": [
    {
     "name": "stdout",
     "output_type": "stream",
     "text": [
      "나이 : 27 \n",
      " 지불유형 : 현금 \n",
      " 버스요금 : 1200\n"
     ]
    }
   ],
   "source": [
    "age = int(input('나이를 입력해주세요 :'))\n",
    "pay = input('현금/카드 중 지불 방법을 입력해주세요 :')\n",
    "\n",
    "try:\n",
    "\n",
    "    def busfare(age, pay) :\n",
    "        if age < 8 :\n",
    "            cost = '무료'\n",
    "        elif 8 <= age < 14 :\n",
    "            if pay == '현금' :\n",
    "                cost = 450\n",
    "            elif pay == '카드' :\n",
    "                cost = 450\n",
    "        elif 14 <= age < 20 :\n",
    "            if pay == '현금' :\n",
    "                cost = 720\n",
    "            elif pay == '카드' :\n",
    "                cost = 1000\n",
    "        elif 20 <= age < 75 :\n",
    "            if pay == '현금' :\n",
    "                cost = 1200\n",
    "            elif pay == '카드' :\n",
    "                cost = 1300\n",
    "        else :\n",
    "            cost = '무료'\n",
    "\n",
    "        print('나이 :', age, '\\n', '지불유형 :', pay, '\\n', '버스요금 :', cost)\n",
    "\n",
    "except:\n",
    "    print('Invalid value')\n",
    "\n",
    "busfare(age, pay)"
   ]
  }
 ],
 "metadata": {
  "kernelspec": {
   "display_name": "Python 3",
   "language": "python",
   "name": "python3"
  },
  "language_info": {
   "codemirror_mode": {
    "name": "ipython",
    "version": 3
   },
   "file_extension": ".py",
   "mimetype": "text/x-python",
   "name": "python",
   "nbconvert_exporter": "python",
   "pygments_lexer": "ipython3",
   "version": "3.10.4"
  },
  "orig_nbformat": 4
 },
 "nbformat": 4,
 "nbformat_minor": 2
}
