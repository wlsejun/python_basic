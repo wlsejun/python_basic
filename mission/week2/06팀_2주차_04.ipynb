{
 "cells": [
  {
   "cell_type": "markdown",
   "metadata": {},
   "source": [
    "### Q4. 컴퓨터와 함께하는 가위바위보 게임을 만들어봅시다!\n",
    "조건부 실행을 중심으로 만들어 보아요. [난이도 : ⭐️⭐️⭐️/5]"
   ]
  },
  {
   "cell_type": "markdown",
   "metadata": {},
   "source": [
    "조건1 : 함수의 인자로는 나의 가위바위보 선택이 들어가야 합니다.\n",
    "(0, 1 ,2 혹은 \"가위\", \"바위\", \"보\" 로 입력할 수 있습니다. - 총 6가지 방법으로 넣을 수 있음)\n",
    "\n",
    "조건2 : 누가 무엇을 냈고, 누가 승리 했는지 출력이 되어야 합니다.\n",
    "\n",
    "hint : 컴퓨터가 랜덤으로 가위바위보를 하도록 만드는 방법    (힌트를 보고도 잘 모르겠다면, 검색을 활용해보세요!!)"
   ]
  },
  {
   "cell_type": "markdown",
   "metadata": {},
   "source": [
    "------------------------------------------------------------"
   ]
  },
  {
   "cell_type": "markdown",
   "metadata": {},
   "source": [
    "[ LOGIC ]\n",
    "\n",
    "1. 나이와 지불방법(카드, 현금)을 입력 받는다.\n",
    "- 나이, 지불방법 변수를 설정하고 input 함수를 사용함.\n",
    "- 나이 변수를 int형으로 변환함. \n",
    "- *예외처리 : 지불방법을 카드/현금으로 입력하지 않은 경우\n",
    "\n",
    "2. busfare 함수를 만들고 if문을 사용하여 나이 범위를 나눈다.\n",
    "- 앞서 설정한 나이, 지불방법 변수를 인자로 받음.\n",
    "- 문제에서 설정한 세전연봉 범위대로 가격 할당함.\n",
    "\n",
    "4. 나이, 지불방법, 가격을 출력한다.\n",
    "\n",
    "5. 나이, 지불방법 변수를 인자로 받는 busfare 함수를 선언한다."
   ]
  },
  {
   "cell_type": "code",
   "execution_count": null,
   "metadata": {
    "vscode": {
     "languageId": "plaintext"
    }
   },
   "outputs": [],
   "source": []
  }
 ],
 "metadata": {
  "language_info": {
   "name": "python"
  },
  "orig_nbformat": 4
 },
 "nbformat": 4,
 "nbformat_minor": 2
}
