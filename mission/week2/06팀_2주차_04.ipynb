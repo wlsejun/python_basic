{
 "cells": [
  {
   "cell_type": "markdown",
   "metadata": {},
   "source": [
    "### Q4. 컴퓨터와 함께하는 가위바위보 게임을 만들어봅시다!\n",
    "조건부 실행을 중심으로 만들어 보아요. [난이도 : ⭐️⭐️⭐️/5]"
   ]
  },
  {
   "cell_type": "markdown",
   "metadata": {},
   "source": [
    "조건1 : 함수의 인자로는 나의 가위바위보 선택이 들어가야 합니다.\n",
    "(0, 1 ,2 혹은 \"가위\", \"바위\", \"보\" 로 입력할 수 있습니다. - 총 6가지 방법으로 넣을 수 있음)\n",
    "\n",
    "조건2 : 누가 무엇을 냈고, 누가 승리 했는지 출력이 되어야 합니다.\n",
    "\n",
    "hint : 컴퓨터가 랜덤으로 가위바위보를 하도록 만드는 방법    (힌트를 보고도 잘 모르겠다면, 검색을 활용해보세요!!)"
   ]
  },
  {
   "cell_type": "markdown",
   "metadata": {},
   "source": [
    "------------------------------------------------------------"
   ]
  },
  {
   "cell_type": "markdown",
   "metadata": {},
   "source": [
    "[ LOGIC ]\n",
    "\n",
    "1. random 모듈을 import 한다.\n",
    "\n",
    "2. 컴퓨터 변수를 설정하고 (0,1)범위에서 random 모듈을 할당한다.\n",
    "\n",
    "3. 컴퓨터 : 0,1 범위에서 랜덤으로 출력된 값에 따라 가위/바위/보 를 할당한다.\n",
    "\n",
    "4. 나 : input 함수를 통해 가위/바위/보 를 입력받는다.\n",
    "\n",
    "5. 나 변수를 인자로 받는 rcp 함수를 생성한다.\n",
    "- 가위/바위/보 중 컴퓨터와 내가 내는 값에 따라 범위를 나눔.\n",
    "\n",
    "6. 결과를 출력한다.\n",
    "\n",
    "7. rcp 함수를 선언한다."
   ]
  },
  {
   "cell_type": "code",
   "execution_count": 1,
   "metadata": {},
   "outputs": [
    {
     "name": "stdout",
     "output_type": "stream",
     "text": [
      "나 : 가위 \n",
      " 컴퓨터 :  보 \n",
      " 나 승리!\n"
     ]
    }
   ],
   "source": [
    "import random\n",
    "computer = random.randint(0,2)\n",
    "\n",
    "if computer == 0 :\n",
    "    computer = '가위'\n",
    "elif computer == 1 :\n",
    "    computer = '바위'\n",
    "else :\n",
    "    computer = '보'\n",
    "\n",
    "my = input('가위 바위 보 입력해주세요 : ')\n",
    "\n",
    "def rcp(my) :\n",
    "    if computer == my :\n",
    "        print('나 :', my, '\\n', '컴퓨터 : ', computer,  '\\n', '비겼습니다.')\n",
    "    else :\n",
    "        if computer == '가위' :\n",
    "            if my == '바위' :\n",
    "                print('나 :', my, '\\n', '컴퓨터 : ', computer, '\\n', '나 승리!')\n",
    "            elif my == '보' :\n",
    "                print('나 :', my, '\\n', '컴퓨터 : ', computer, '\\n', '컴퓨터 승리!')\n",
    "        if computer == '바위' :\n",
    "            if my == '보' :\n",
    "                print('나 :', my, '\\n', '컴퓨터 : ', computer, '\\n', '나 승리!')\n",
    "            elif my == '가위' :\n",
    "                print('나 :', my, '\\n', '컴퓨터 : ', computer, '\\n', '컴퓨터 승리!')\n",
    "        if computer == '보' :\n",
    "            if my == '가위' :\n",
    "                print('나 :', my, '\\n', '컴퓨터 : ', computer, '\\n', '나 승리!')\n",
    "            elif my == '바위' :\n",
    "                print('나 :', my, '\\n', '컴퓨터 : ', computer, '\\n', '컴퓨터 승리!')\n",
    "\n",
    "rcp(my)"
   ]
  }
 ],
 "metadata": {
  "kernelspec": {
   "display_name": "Python 3",
   "language": "python",
   "name": "python3"
  },
  "language_info": {
   "codemirror_mode": {
    "name": "ipython",
    "version": 3
   },
   "file_extension": ".py",
   "mimetype": "text/x-python",
   "name": "python",
   "nbconvert_exporter": "python",
   "pygments_lexer": "ipython3",
   "version": "3.10.4"
  },
  "orig_nbformat": 4
 },
 "nbformat": 4,
 "nbformat_minor": 2
}
