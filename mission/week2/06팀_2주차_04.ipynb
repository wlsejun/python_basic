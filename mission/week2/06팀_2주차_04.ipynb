{
 "cells": [
  {
   "cell_type": "markdown",
   "metadata": {},
   "source": [
    "### Q4. 컴퓨터와 함께하는 가위바위보 게임을 만들어봅시다!\n",
    "조건부 실행을 중심으로 만들어 보아요. [난이도 : ⭐️⭐️⭐️/5]"
   ]
  },
  {
   "cell_type": "markdown",
   "metadata": {},
   "source": [
    "조건1 : 함수의 인자로는 나의 가위바위보 선택이 들어가야 합니다.\n",
    "(0, 1 ,2 혹은 \"가위\", \"바위\", \"보\" 로 입력할 수 있습니다. - 총 6가지 방법으로 넣을 수 있음)\n",
    "\n",
    "조건2 : 누가 무엇을 냈고, 누가 승리 했는지 출력이 되어야 합니다.\n",
    "\n",
    "hint : 컴퓨터가 랜덤으로 가위바위보를 하도록 만드는 방법    (힌트를 보고도 잘 모르겠다면, 검색을 활용해보세요!!)"
   ]
  },
  {
   "cell_type": "markdown",
   "metadata": {},
   "source": [
    "------------------------------------------------------------"
   ]
  },
  {
   "cell_type": "markdown",
   "metadata": {},
   "source": [
    "[ LOGIC ]\n",
    "\n",
    "1. random 모듈을 import 한다.\n",
    "\n",
    "2. 컴퓨터 변수를 설정하고 (0,2)범위에서 random 모듈을 할당한다.\n",
    "\n",
    "3. 컴퓨터 : 0,1 범위에서 랜덤으로 출력된 값에 따라 가위/바위/보 를 할당한다.\n",
    "\n",
    "4. 나 : input 함수를 통해 가위/바위/보 를 입력받는다.\n",
    "\n",
    "5. if문을 사용해서 모든 결과의 경우의 수를 나눈다.\n",
    "- 가위/바위/보 중 컴퓨터와 내가 내는 값에 따라 범위를 나눔.\n",
    "\n",
    "6. 결과를 출력한다."
   ]
  },
  {
   "cell_type": "markdown",
   "metadata": {},
   "source": [
    "--------------------------------------------취합본--------------------------------------------"
   ]
  },
  {
   "cell_type": "code",
   "execution_count": 3,
   "metadata": {},
   "outputs": [
    {
     "name": "stdout",
     "output_type": "stream",
     "text": [
      "나 : 가위 \n",
      "컴퓨터 : 바위 \n",
      "컴퓨터가 승리했습니다\n"
     ]
    }
   ],
   "source": [
    "import random\n",
    "computer = random.randint(0,2)\n",
    "\n",
    "if computer == 0 :\n",
    "    computer = '가위'\n",
    "elif computer == 1 :\n",
    "    computer = '바위'\n",
    "else :\n",
    "    computer = '보'\n",
    "\n",
    "my = input('가위 바위 보 입력해주세요 : ')\n",
    "\n",
    "if computer == my :\n",
    "    print('나 :', my,'\\n컴퓨터 :',computer, '\\n비겼습니다')\n",
    "elif computer == \"가위\" and my == \"보\" : \n",
    "    print('나 :', my,'\\n컴퓨터 :',computer, \"\\n컴퓨터가 승리했습니다\")\n",
    "elif computer == \"바위\" and my == \"가위\" : \n",
    "    print('나 :', my,'\\n컴퓨터 :',computer, \"\\n컴퓨터가 승리했습니다\")\n",
    "elif computer == \"보\" and my == \"바위\" : \n",
    "    print('나 :', my,'\\n컴퓨터 :',computer, \"\\n컴퓨터가 승리했습니다\")\n",
    "elif computer == \"보\" and my == \"가위\" : \n",
    "    print('나 :', my,'\\n컴퓨터 :',computer, \"\\n사용자가 승리했습니다\")\n",
    "elif computer == \"가위\" and my == \"바위\" : \n",
    "    print('나 :', my,'\\n컴퓨터 :',computer, \"\\n사용자가 승리했습니다\")\n",
    "elif computer == \"바위\" and my == \"보\" : \n",
    "    print('나 :', my,'\\n컴퓨터 :',computer, \"\\n사용자가 승리했습니다\")\n"
   ]
  },
  {
   "cell_type": "markdown",
   "metadata": {},
   "source": [
    "--------------------------------------------김세준--------------------------------------------"
   ]
  },
  {
   "cell_type": "code",
   "execution_count": null,
   "metadata": {},
   "outputs": [],
   "source": [
    "# 1. 컴퓨터의 선택 생성하기 - random 모듈 사용하기\n",
    "# 2. 사용자의 선택 받기\n",
    "# 3. 선택을 비교하고 결과 출력하기\n",
    "\n",
    "import random\n",
    "computer = random.randint(0,2)\n",
    "\n",
    "if computer == 0 :\n",
    "    computer = '가위'\n",
    "elif computer == 1 :\n",
    "    computer = '바위'\n",
    "else :\n",
    "    computer = '보'\n",
    "\n",
    "my = input('가위 바위 보 입력해주세요 : ')\n",
    "\n",
    "def rcp(my) :\n",
    "    if computer == my :\n",
    "        print('나 :', my, '\\n', '컴퓨터 : ', computer,  '\\n', '비겼습니다.')\n",
    "    else :\n",
    "        if computer == '가위' :\n",
    "            if my == '바위' :\n",
    "                print('나 :', my, '\\n', '컴퓨터 : ', computer, '\\n', '나 승리!')\n",
    "            elif my == '보' :\n",
    "                print('나 :', my, '\\n', '컴퓨터 : ', computer, '\\n', '컴퓨터 승리!')\n",
    "        if computer == '바위' :\n",
    "            if my == '보' :\n",
    "                print('나 :', my, '\\n', '컴퓨터 : ', computer, '\\n', '나 승리!')\n",
    "            elif my == '가위' :\n",
    "                print('나 :', my, '\\n', '컴퓨터 : ', computer, '\\n', '컴퓨터 승리!')\n",
    "        if computer == '보' :\n",
    "            if my == '가위' :\n",
    "                print('나 :', my, '\\n', '컴퓨터 : ', computer, '\\n', '나 승리!')\n",
    "            elif my == '바위' :\n",
    "                print('나 :', my, '\\n', '컴퓨터 : ', computer, '\\n', '컴퓨터 승리!')\n",
    "\n",
    "rcp(my)"
   ]
  },
  {
   "cell_type": "markdown",
   "metadata": {},
   "source": [
    "--------------------------------------------신유리--------------------------------------------"
   ]
  },
  {
   "cell_type": "code",
   "execution_count": null,
   "metadata": {},
   "outputs": [],
   "source": [
    "#4. 가위바위보 조건부 실행\n",
    "# 조건1. 가위바위보 선택이 들어가야해\n",
    "# 조건2. 누가 무엇? 누가 승리?\n",
    "# 컴퓨터 랜덤 실행\n",
    "# 나는 입력받아\n",
    "# 컴랜 - 나입 비교해서\n",
    "# 출력 -> 누가 (승리, 패)\n",
    "# 가위 = 0, 바위 = 1, 보 = 2\n",
    "import random\n",
    "computer = random.randint(0,2)\n",
    "print('컴퓨터는 : %d'%computer)\n",
    "am = int(input('나는 :'))\n",
    "if computer == 0 :\n",
    "    print('컴퓨터는 가위')\n",
    "    if am == 1 :\n",
    "        print('나는 바위')\n",
    "        print('나가 승리. 컴이 패')\n",
    "    elif am == 2:\n",
    "        print('나는 보')\n",
    "        print('컴이 승리. 나가 패')\n",
    "    else :\n",
    "        print('나는 가위')\n",
    "        print('비겼습니다.')\n",
    "elif computer == 1 :\n",
    "    print('컴퓨터는 가위')\n",
    "    if am == 2 :\n",
    "        print('나는 보')\n",
    "        print('나가 승. 컴이 패')\n",
    "    elif am == 0:\n",
    "        print('나는 가위')\n",
    "        print('컴이 승리. 나가 패')\n",
    "    else :\n",
    "        print('나는 바위')\n",
    "        print('비겼습니다.')\n",
    "else  :\n",
    "    if am == 0 :\n",
    "        print('나는 가위')\n",
    "        print('나가 승리. 컴이 패')\n",
    "    elif am == 1:\n",
    "        print('나는 바위')\n",
    "        print('컴이 승리. 나가 패')\n",
    "    else :\n",
    "        print('나는 보')\n",
    "        print('비겼습니다.')"
   ]
  },
  {
   "cell_type": "markdown",
   "metadata": {},
   "source": [
    "--------------------------------------------Finn--------------------------------------------"
   ]
  },
  {
   "cell_type": "code",
   "execution_count": null,
   "metadata": {},
   "outputs": [],
   "source": [
    "#Q4 가위바위보 게임-------------------------------------------------\n",
    "import random\n",
    "computer_num = random.randint(0,2)\n",
    "if computer_num == 0 : \n",
    "    computer = \"가위\"\n",
    "elif computer_num == 1 : \n",
    "    computer = \"바위\"\n",
    "else : \n",
    "    computer = \"보\"\n",
    "\n",
    "\n",
    "print(\"가위바위보 게임을 시작합니다.\")\n",
    "user = input(\"가위바위보 중 하나를 입력하세요\")\n",
    "while user != \"가위\" and user != \"바위\" and user != \"보\" : \n",
    "    user = input(\"가위바위보 중 하나를 다시 입력하세요\")\n",
    "\n",
    "print('나는',user)\n",
    "print('컴퓨터는',computer)\n",
    "\n",
    "while computer == user : \n",
    "    user = input(\"게임이 비겼습니다, 가위바위보 중 하나를 다시 입력하세요\")\n",
    "if computer == \"가위\" and user == \"보\" : \n",
    "    print(\"컴퓨터가 승리했습니다\")\n",
    "elif computer == \"바위\" and user == \"가위\" : \n",
    "    print(\"컴퓨터가 승리했습니다\")\n",
    "elif computer == \"보\" and user == \"바위\" : \n",
    "    print(\"컴퓨터가 승리했습니다\")\n",
    "elif computer == \"보\" and user == \"가위\" : \n",
    "    print(\"사용자가 승리했습니다\")\n",
    "elif computer == \"가위\" and user == \"바위\" : \n",
    "    print(\"사용자가 승리했습니다\")\n",
    "elif computer == \"바위\" and user == \"보\" : \n",
    "    print(\"사용자가 승리했습니다\")"
   ]
  },
  {
   "cell_type": "markdown",
   "metadata": {},
   "source": [
    "--------------------------------------------초이--------------------------------------------"
   ]
  },
  {
   "cell_type": "code",
   "execution_count": null,
   "metadata": {},
   "outputs": [],
   "source": [
    "import random\n",
    "select = [\"가위\",\"바위\",\"보\",0,1,2]\n",
    "coumputer = random.choice(select)\n",
    "\n",
    "user = input(\"가위 바위 보 0 1 2 중 하나를 입력하세요: \")\n",
    "\n",
    "while True :\n",
    "    if user in select:\n",
    "        break\n",
    "    print(\"다시 입력하세요\")\n",
    "\n",
    "if user == \"가위\" and coumputer == \"보\" or \\\n",
    "    user == \"바위\" and coumputer == \"가위\" or\\\n",
    "    user == \"보\" and coumputer == \"바위\" or \\\n",
    "    user == \"1\" and coumputer == \"0\" or\\\n",
    "    user == \"2\" and coumputer == \"0\" or\\\n",
    "    user == \"2\" and coumputer == \"1\":\n",
    "        print(\"내가 이겼다!!!\")\n",
    "else :\n",
    "    print(\"졌다ㅠㅠ.\")"
   ]
  }
 ],
 "metadata": {
  "kernelspec": {
   "display_name": "Python 3",
   "language": "python",
   "name": "python3"
  },
  "language_info": {
   "codemirror_mode": {
    "name": "ipython",
    "version": 3
   },
   "file_extension": ".py",
   "mimetype": "text/x-python",
   "name": "python",
   "nbconvert_exporter": "python",
   "pygments_lexer": "ipython3",
   "version": "3.10.4"
  },
  "orig_nbformat": 4
 },
 "nbformat": 4,
 "nbformat_minor": 2
}
